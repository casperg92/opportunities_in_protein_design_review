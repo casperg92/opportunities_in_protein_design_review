{
 "cells": [
  {
   "cell_type": "code",
   "execution_count": null,
   "id": "23b7137e-1753-4541-8a38-915dc3f7ec65",
   "metadata": {},
   "outputs": [],
   "source": [
    "from biopandas.pdb import PandasPdb\n",
    "from tqdm.notebook import tqdm\n",
    "import glob\n",
    "\n",
    "import random\n",
    "import urllib\n",
    "import pickle\n",
    "random.seed(52)\n",
    "\n",
    "from protein_tools import *\n",
    "\n",
    "### initialise PyRosetta\n",
    "pr.init('-ignore_unrecognized_res -ignore_zero_occupancy -mute all -holes:dalphaball /work/lpdi/bin/rosetta_06_2021/main/source/external/DAlpahBall/DAlphaBall.gcc -corrections::beta_nov16 true -relax:default_repeats 1')"
   ]
  },
  {
   "cell_type": "markdown",
   "id": "b7f58632-4033-4192-bce0-b38aaa8113bf",
   "metadata": {},
   "source": [
    "# Sample natural PPIs from CATH"
   ]
  },
  {
   "cell_type": "code",
   "execution_count": null,
   "id": "4c7bbab6-ae7a-4a5f-ae2a-5ea30bb7bd42",
   "metadata": {},
   "outputs": [],
   "source": [
    "# native pdb codes are in cath-domain-list-S100.txt, every line has this format:\n",
    "#1oaiA00     1    10     8    10     1     1     1     1     1    59 1.000\n",
    "# pdb code is the first 4 characters\n",
    "# read all pdb codes from this file\n",
    "\n",
    "native_pdb_codes = []\n",
    "with open('cath-domain-list-S100.txt') as f:\n",
    "    for line in f:\n",
    "        native_pdb_codes.append(line[:4])\n",
    "\n",
    "# remove duplicates\n",
    "native_pdb_codes = list(set(native_pdb_codes))\n",
    "\n",
    "# subselect random 1000\n",
    "random.shuffle(native_pdb_codes)\n",
    "native_pdb_codes = native_pdb_codes[:1029]\n",
    "\n",
    "for pdb_code in native_pdb_codes:\n",
    "    url = 'https://files.rcsb.org/download/' + pdb_code + '.pdb'\n",
    "    filename = 'native_domain_database/' + pdb_code + '.pdb'\n",
    "    if os.path.isfile(filename):\n",
    "        continue\n",
    "    print('Downloading ' + pdb_code + ' from ' + url + ' to ' + filename)\n",
    "    try:\n",
    "        urllib.request.urlretrieve(url, filename)\n",
    "    except:\n",
    "        print('Error downloading ' + pdb_code + ' from ' + url)"
   ]
  },
  {
   "cell_type": "markdown",
   "id": "9fafcda9-4a94-4998-ae92-ec83aafeb038",
   "metadata": {},
   "source": [
    "# Calculate the native PPI interface scores"
   ]
  },
  {
   "cell_type": "code",
   "execution_count": null,
   "id": "c2638a60-470d-4619-8632-65e9ad084897",
   "metadata": {
    "scrolled": true
   },
   "outputs": [],
   "source": [
    "for pdb in tqdm(glob.glob('native_binder_database_clean/*.pdb')):\n",
    "    name = pdb.split('/')[-1].replace('.pdb','')\n",
    "    print(name)\n",
    "    pdb_file = pdb\n",
    "    \n",
    "    chain_A = pdb.split('/')[-1].split('_')[1]\n",
    "    chain_B = pdb.split('/')[-1].split('_')[2].replace('.pdb', '')\n",
    "    \n",
    "    # randomly select weather to use chain A or chain B\n",
    "    random_number = random.uniform(0, 1)\n",
    "    if random_number < 0.5:\n",
    "        chain = chain_A\n",
    "        if len(chain_A) != 1:\n",
    "            chain = chain_B\n",
    "    else:\n",
    "        chain = chain_B\n",
    "\n",
    "    try:\n",
    "        interface_scores, interface_AA, interface_residues_pdb_ids_str = score_interface(pdb_file, chain)\n",
    "        total_count, helix_count, sheet_count, loop_count = obtain_sse_content_interface(pdb_file, chain)\n",
    "\n",
    "        pose = pr.pose_from_pdb(pdb_file)\n",
    "        interface_scores['interface_bb_hbonds'] = count_interface_bb_hbonds(pose)\n",
    "        chain1_interface_residues, chain2_interface_residues = get_interface_residues(pose, chain_A, chain_B)\n",
    "        interface_scores['interface_hydrophobicity'] = calculate_hydrophobicity(pose, chain1_interface_residues)\n",
    "        interface_scores['loop_perc'] = (loop_count/total_count)*100\n",
    "        interface_scores['helix_perc'] = (helix_count/total_count)*100\n",
    "        interface_scores['beta_perc'] = (sheet_count/total_count)*100\n",
    "\n",
    "        with open('native_PPI_interface_scores/{name}.pickle'.format(name=name), 'wb') as handle:\n",
    "            pickle.dump(interface_scores, handle, protocol=pickle.HIGHEST_PROTOCOL)\n",
    "    except:\n",
    "        print('error with:', name, 'skipping...')"
   ]
  },
  {
   "cell_type": "code",
   "execution_count": null,
   "id": "38af2b57-83ab-4dc5-a7d2-04116c8865b5",
   "metadata": {
    "scrolled": true
   },
   "outputs": [],
   "source": [
    "for pdb in tqdm(glob.glob('de_novo_binder_database_clean/*.pdb')):\n",
    "    name = pdb.split('/')[-1].replace('.pdb','')\n",
    "    print(name)\n",
    "    pdb_file = pdb\n",
    "    \n",
    "    chain_A = pdb.split('/')[-1].split('_')[1]\n",
    "    chain_B = pdb.split('/')[-1].split('_')[2].replace('.pdb', '')\n",
    "    \n",
    "    chain = chain_B\n",
    "\n",
    "    interface_scores, interface_AA, interface_residues_pdb_ids_str = score_interface(pdb_file, chain)\n",
    "    total_count, helix_count, sheet_count, loop_count = obtain_sse_content_interface(pdb_file, chain)\n",
    "\n",
    "    pose = pr.pose_from_pdb(pdb_file)\n",
    "    interface_scores['interface_bb_hbonds'] = count_interface_bb_hbonds(pose)\n",
    "    chain1_interface_residues, chain2_interface_residues = get_interface_residues(pose, chain_A, chain_B)\n",
    "    interface_scores['interface_hydrophobicity'] = calculate_hydrophobicity(pose, chain1_interface_residues)\n",
    "    interface_scores['loop_perc'] = (loop_count/total_count)*100\n",
    "    interface_scores['helix_perc'] = (helix_count/total_count)*100\n",
    "    interface_scores['beta_perc'] = (sheet_count/total_count)*100\n",
    "\n",
    "    with open('de_novo_PPI_interface_scores/{name}.pickle'.format(name=name), 'wb') as handle:\n",
    "        pickle.dump(interface_scores, handle, protocol=pickle.HIGHEST_PROTOCOL)"
   ]
  }
 ],
 "metadata": {
  "kernelspec": {
   "display_name": "Python 3 (ipykernel)",
   "language": "python",
   "name": "python3"
  },
  "language_info": {
   "codemirror_mode": {
    "name": "ipython",
    "version": 3
   },
   "file_extension": ".py",
   "mimetype": "text/x-python",
   "name": "python",
   "nbconvert_exporter": "python",
   "pygments_lexer": "ipython3",
   "version": "3.10.12"
  }
 },
 "nbformat": 4,
 "nbformat_minor": 5
}
